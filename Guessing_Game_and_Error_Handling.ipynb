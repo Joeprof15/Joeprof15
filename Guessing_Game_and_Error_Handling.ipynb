{
  "nbformat": 4,
  "nbformat_minor": 0,
  "metadata": {
    "colab": {
      "provenance": [],
      "authorship_tag": "ABX9TyP5ewl4kz+cnmT2IHLC7MDj",
      "include_colab_link": true
    },
    "kernelspec": {
      "name": "python3",
      "display_name": "Python 3"
    },
    "language_info": {
      "name": "python"
    }
  },
  "cells": [
    {
      "cell_type": "markdown",
      "metadata": {
        "id": "view-in-github",
        "colab_type": "text"
      },
      "source": [
        "<a href=\"https://colab.research.google.com/github/Joeprof15/Joeprof15/blob/main/Guessing_Game_and_Error_Handling.ipynb\" target=\"_parent\"><img src=\"https://colab.research.google.com/assets/colab-badge.svg\" alt=\"Open In Colab\"/></a>"
      ]
    },
    {
      "cell_type": "markdown",
      "source": [
        "# Algorithmic Bias Game"
      ],
      "metadata": {
        "id": "8l1ug3GPUNxK"
      }
    },
    {
      "cell_type": "code",
      "source": [
        "x=5\n",
        "guest=int(input(\"enter an integer number between 1 and 10 \"))\n",
        "if guest==5:\n",
        "  print(\"you are right\")\n",
        "else:\n",
        "  print(\"you are wrong\")"
      ],
      "metadata": {
        "id": "54q9st2pT1X4"
      },
      "execution_count": null,
      "outputs": []
    },
    {
      "cell_type": "code",
      "source": [
        "import random as rd"
      ],
      "metadata": {
        "id": "GVFP0jvwT0_J"
      },
      "execution_count": null,
      "outputs": []
    },
    {
      "cell_type": "markdown",
      "source": [
        "# Non-Bias Game"
      ],
      "metadata": {
        "id": "k-j8ZsRIUXs6"
      }
    },
    {
      "cell_type": "code",
      "source": [
        "y=rd.randint(1,10)\n",
        "guest=int(input(\"enter an integer number between 1 and 10 \"))\n",
        "if guest==y:\n",
        "  print(\"you are right\")\n",
        "else:\n",
        "  print(\"you are wrong\")"
      ],
      "metadata": {
        "id": "UbakR030PtkA"
      },
      "execution_count": null,
      "outputs": []
    },
    {
      "cell_type": "code",
      "source": [
        "2r=rd.randint(1,10)\n",
        "print(r)"
      ],
      "metadata": {
        "id": "PYQxRMCrRBVF"
      },
      "execution_count": null,
      "outputs": []
    },
    {
      "cell_type": "markdown",
      "source": [
        "# Making the game more robust"
      ],
      "metadata": {
        "id": "fD-_IieNXHsM"
      }
    },
    {
      "cell_type": "code",
      "source": [
        "import random as rd\n",
        "\n",
        "y = rd.randint(1, 10)\n",
        "\n",
        "while True:\n",
        "    try:\n",
        "        guest = int(input(\"enter an integer number between 1 and 10 \"))\n",
        "        if 1 <= guest <= 10:\n",
        "            break\n",
        "        else:\n",
        "            print(\"Invalid input. Please enter a number between 1 and 10.\")\n",
        "    except ValueError:\n",
        "        print(\"Invalid input. Please enter an integer.\")\n",
        "\n",
        "if guest == y:\n",
        "    print(\"you are right\")\n",
        "else:\n",
        "    print(\"you are wrong\")"
      ],
      "metadata": {
        "id": "MfkdiMovRFr9"
      },
      "execution_count": null,
      "outputs": []
    },
    {
      "cell_type": "markdown",
      "source": [
        "## Handling Different Multiple Exceptions in Python"
      ],
      "metadata": {
        "id": "4tHiVaDkYQxb"
      }
    },
    {
      "cell_type": "code",
      "source": [
        "try:\n",
        "    # Code that might raise exceptions\n",
        "    value = int(\"abc\")  # This will raise a ValueError\n",
        "    result = 10 / 0    # This will raise a ZeroDivisionError\n",
        "except ValueError:\n",
        "    print(\"Error: Invalid number format!\")\n",
        "except ZeroDivisionError:\n",
        "    print(\"Error: Cannot divide by zero!\")\n",
        "except Exception as e:\n",
        "    print(f\"An unexpected error occurred: {e}\")"
      ],
      "metadata": {
        "id": "Zxcy8AOgYFaz"
      },
      "execution_count": null,
      "outputs": []
    },
    {
      "cell_type": "markdown",
      "source": [
        "## 2. Handling Multiple Exceptions with a Single except Block:"
      ],
      "metadata": {
        "id": "eAwmXXGGaKYm"
      }
    },
    {
      "cell_type": "code",
      "source": [
        "try:\n",
        "    # Code that might raise exceptions\n",
        "    my_list = [1, 2]\n",
        "    print(my_list[3])  # This will raise an IndexError\n",
        "    my_dict = {\"a\": 1}\n",
        "    print(my_dict[\"b\"]) # This will raise a KeyError\n",
        "except (IndexError, KeyError) as e:\n",
        "    print(f\"A list or dictionary lookup error occurred: {e}\")"
      ],
      "metadata": {
        "id": "ZR_dM7wwYLHv"
      },
      "execution_count": null,
      "outputs": []
    },
    {
      "cell_type": "code",
      "source": [
        "try:\n",
        "    number = int(input(\"Enter an integer: \"))\n",
        "    result = 100 / number\n",
        "except ValueError:\n",
        "    print(\"Error: That was not a valid number.\")\n",
        "except ZeroDivisionError:\n",
        "    print(\"Error: Cannot divide by zero.\")\n",
        "except Exception as e:\n",
        "    print(f\"An unexpected error occurred: {e}\")\n",
        "\n"
      ],
      "metadata": {
        "id": "eWORB9edaQId"
      },
      "execution_count": null,
      "outputs": []
    },
    {
      "cell_type": "code",
      "source": [
        "try:\n",
        "    my_list = [1, 2, 3]\n",
        "    value = my_list[4]\n",
        "except (IndexError, ValueError) as e:\n",
        "    print(f\"An error occurred with your data: {e}\")\n"
      ],
      "metadata": {
        "id": "Y0x84UmEgdIP"
      },
      "execution_count": null,
      "outputs": []
    },
    {
      "cell_type": "code",
      "source": [
        "try:\n",
        "    raise ExceptionGroup(\n",
        "        \"A group of exceptions occurred\",\n",
        "        [\n",
        "            TypeError(\"Invalid type\"),\n",
        "            ValueError(\"Invalid value\")\n",
        "        ]\n",
        "    )\n",
        "except* TypeError as e:\n",
        "    print(f\"Handled a TypeError: {e}\")\n",
        "except* ValueError as e:\n",
        "    print(f\"Handled a ValueError: {e}\")\n",
        "\n"
      ],
      "metadata": {
        "id": "_5Scfqq1n_VR"
      },
      "execution_count": null,
      "outputs": []
    }
  ]
}